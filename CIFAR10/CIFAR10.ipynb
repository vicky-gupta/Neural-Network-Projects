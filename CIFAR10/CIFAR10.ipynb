{
 "cells": [
  {
   "cell_type": "code",
   "execution_count": 1,
   "metadata": {},
   "outputs": [],
   "source": [
    "import tensorflow as tf\n",
    "from keras import layers, datasets, models\n",
    "import numpy as np\n",
    "import matplotlib.pyplot as plt"
   ]
  },
  {
   "cell_type": "code",
   "execution_count": 24,
   "metadata": {},
   "outputs": [],
   "source": [
    "import pickle\n",
    "import numpy as np\n",
    "\n",
    "for i in range(1,6):\n",
    "    path = 'data_batch_' + str(i)\n",
    "    with open(path, mode='rb') as file:\n",
    "        # note the encoding type is 'latin1'\n",
    "        batch = pickle.load(file, encoding='latin1')\n",
    "    if i == 1:  \n",
    "        X_train = (batch['data'].reshape((len(batch['data']), 3, 32, 32)).transpose(0, 2, 3, 1)).astype('float32')\n",
    "        y_train = batch['labels']\n",
    "    else:\n",
    "        X_train_temp = (batch['data'].reshape((len(batch['data']), 3, 32, 32)).transpose(0, 2, 3, 1)).astype('float32')\n",
    "        y_train_temp = batch['labels']\n",
    "        X_train = np.concatenate((X_train,X_train_temp),axis = 0)\n",
    "        y_train = np.concatenate((y_train,y_train_temp),axis=0)\n",
    "\n",
    "path = 'test_batch'\n",
    "with open(path,'rb') as file:\n",
    "    # note the encoding type is 'latin1'\n",
    "    batch = pickle.load(file, encoding='latin1')\n",
    "    X_test = (batch['data'].reshape((len(batch['data']), 3, 32, 32)).transpose(0, 2, 3, 1)).astype('float32')\n",
    "    y_test = batch['labels']"
   ]
  },
  {
   "cell_type": "code",
   "execution_count": 25,
   "metadata": {},
   "outputs": [],
   "source": [
    "classes = ['airplane', 'automobile', 'bird', 'cat', 'deer', 'dog', 'frog', 'horse', 'ship', 'truck']"
   ]
  },
  {
   "cell_type": "code",
   "execution_count": 26,
   "metadata": {},
   "outputs": [],
   "source": [
    "y_train = y_train.reshape(-1,) #flatteiing the array"
   ]
  },
  {
   "cell_type": "code",
   "execution_count": 27,
   "metadata": {},
   "outputs": [
    {
     "data": {
      "text/plain": [
       "(50000, 32, 32, 3)"
      ]
     },
     "execution_count": 27,
     "metadata": {},
     "output_type": "execute_result"
    }
   ],
   "source": [
    "X_train.shape"
   ]
  },
  {
   "cell_type": "code",
   "execution_count": 28,
   "metadata": {},
   "outputs": [],
   "source": [
    "def load_image(X,y,index):\n",
    "    plt.figure(figsize = (3,3))\n",
    "    plt.imshow(X[index])\n",
    "    plt.xlabel(classes[y[index]])"
   ]
  },
  {
   "cell_type": "code",
   "execution_count": 49,
   "metadata": {},
   "outputs": [
    {
     "data": {
      "image/png": "[encoded data removed]",
      "text/plain": [
       "<Figure size 216x216 with 1 Axes>"
      ]
     },
     "metadata": {
      "needs_background": "light"
     },
     "output_type": "display_data"
    }
   ],
   "source": [
    "load_image(X_train, y_train, 1)"
   ]
  },
  {
   "cell_type": "code",
   "execution_count": 33,
   "metadata": {},
   "outputs": [],
   "source": [
    "X_train = X_train/255\n",
    "X_test = X_test/255"
   ]
  },
  {
   "cell_type": "code",
   "execution_count": 34,
   "metadata": {},
   "outputs": [],
   "source": [
    "cnn_model = models.Sequential([\n",
    "    #convolution Layer first\n",
    "    layers.Conv2D(filters=32, activation = 'relu', kernel_size = (3,3), input_shape = (32,32,3)),\n",
    "    layers.MaxPooling2D((2,2)),\n",
    "    #convolution Layer first\n",
    "    layers.Conv2D(filters=64, activation = 'relu', kernel_size = (3,3)),\n",
    "    layers.MaxPooling2D((2,2)),\n",
    "    #two layers\n",
    "    layers.Flatten(),\n",
    "    layers.Dense(64, activation = 'relu'),\n",
    "    layers.Dense(10, activation = 'softmax')\n",
    "])"
   ]
  },
  {
   "cell_type": "code",
   "execution_count": 35,
   "metadata": {},
   "outputs": [],
   "source": [
    "cnn_model.compile(\n",
    "    optimizer = 'adam',\n",
    "    loss = 'sparse_categorical_crossentropy',\n",
    "    metrics = ['accuracy']\n",
    "\n",
    ")"
   ]
  },
  {
   "cell_type": "code",
   "execution_count": 36,
   "metadata": {},
   "outputs": [
    {
     "name": "stdout",
     "output_type": "stream",
     "text": [
      "Epoch 1/5\n",
      "1563/1563 [==============================] - 79s 50ms/step - loss: 1.4700 - accuracy: 0.4733\n",
      "Epoch 2/5\n",
      "1563/1563 [==============================] - 76s 48ms/step - loss: 1.1179 - accuracy: 0.6085\n",
      "Epoch 3/5\n",
      "1563/1563 [==============================] - 76s 48ms/step - loss: 0.9816 - accuracy: 0.6602\n",
      "Epoch 4/5\n",
      "1563/1563 [==============================] - 76s 49ms/step - loss: 0.8963 - accuracy: 0.6890\n",
      "Epoch 5/5\n",
      "1563/1563 [==============================] - 74s 47ms/step - loss: 0.8320 - accuracy: 0.7108\n"
     ]
    },
    {
     "data": {
      "text/plain": [
       "<tensorflow.python.keras.callbacks.History at 0x1fcb76ce188>"
      ]
     },
     "execution_count": 36,
     "metadata": {},
     "output_type": "execute_result"
    }
   ],
   "source": [
    "cnn_model.fit(X_train, y_train, epochs = 5)"
   ]
  },
  {
   "cell_type": "code",
   "execution_count": 47,
   "metadata": {},
   "outputs": [],
   "source": [
    "y_test = np.array(y_test).reshape(-1,)"
   ]
  },
  {
   "cell_type": "code",
   "execution_count": 48,
   "metadata": {},
   "outputs": [
    {
     "name": "stdout",
     "output_type": "stream",
     "text": [
      "313/313 [==============================] - 4s 14ms/step - loss: 0.9325 - accuracy: 0.6843\n"
     ]
    },
    {
     "data": {
      "text/plain": [
       "[0.9325095415115356, 0.6843000054359436]"
      ]
     },
     "execution_count": 48,
     "metadata": {},
     "output_type": "execute_result"
    }
   ],
   "source": [
    "cnn_model.evaluate(X_test, y_test)"
   ]
  },
  {
   "cell_type": "code",
   "execution_count": 51,
   "metadata": {},
   "outputs": [
    {
     "data": {
      "image/png": "[encoded data removed]",
      "text/plain": [
       "<Figure size 216x216 with 1 Axes>"
      ]
     },
     "metadata": {
      "needs_background": "light"
     },
     "output_type": "display_data"
    }
   ],
   "source": [
    "load_image(X_test, y_test, 5)"
   ]
  },
  {
   "cell_type": "code",
   "execution_count": 52,
   "metadata": {},
   "outputs": [
    {
     "data": {
      "text/plain": [
       "array([[2.0627478e-02, 2.3837944e-03, 2.2508247e-02, 8.0742848e-01,\n",
       "        4.8677609e-03, 9.5682263e-02, 2.0702712e-02, 3.3305346e-03,\n",
       "        2.1999732e-02, 4.6894280e-04],\n",
       "       [2.2665548e-01, 1.0765200e-01, 5.6997480e-05, 9.0941230e-06,\n",
       "        7.7836548e-06, 2.9657761e-07, 1.0370181e-06, 4.4899680e-06,\n",
       "        6.6537559e-01, 2.3730204e-04],\n",
       "       [1.2251429e-01, 1.5428284e-01, 2.9355616e-03, 1.3400938e-03,\n",
       "        9.6378918e-04, 1.5224454e-04, 4.2790102e-04, 2.8803697e-04,\n",
       "        7.0715606e-01, 9.9390540e-03]], dtype=float32)"
      ]
     },
     "execution_count": 52,
     "metadata": {},
     "output_type": "execute_result"
    }
   ],
   "source": [
    "y_predicted = cnn_model.predict(X_test)\n",
    "y_predicted[:3]"
   ]
  },
  {
   "cell_type": "code",
   "execution_count": 68,
   "metadata": {},
   "outputs": [
    {
     "data": {
      "text/plain": [
       "(10000, 32, 32, 3)"
      ]
     },
     "execution_count": 68,
     "metadata": {},
     "output_type": "execute_result"
    }
   ],
   "source": [
    "X_test.shape"
   ]
  },
  {
   "cell_type": "code",
   "execution_count": 54,
   "metadata": {},
   "outputs": [],
   "source": [
    "y_predicted = [np.argmax(i) for i in y_predicted]"
   ]
  },
  {
   "cell_type": "code",
   "execution_count": 59,
   "metadata": {},
   "outputs": [
    {
     "data": {
      "text/plain": [
       "[3, 8, 8, 0, 6, 6, 1, 6, 3, 1, 0, 9, 5, 7, 9, 8, 5, 5, 8, 6]"
      ]
     },
     "execution_count": 59,
     "metadata": {},
     "output_type": "execute_result"
    }
   ],
   "source": [
    "y_predicted[:20]"
   ]
  },
  {
   "cell_type": "code",
   "execution_count": 60,
   "metadata": {},
   "outputs": [
    {
     "data": {
      "text/plain": [
       "array([3, 8, 8, 0, 6, 6, 1, 6, 3, 1, 0, 9, 5, 7, 9, 8, 5, 7, 8, 6])"
      ]
     },
     "execution_count": 60,
     "metadata": {},
     "output_type": "execute_result"
    }
   ],
   "source": [
    "y_test[:20]"
   ]
  },
  {
   "cell_type": "code",
   "execution_count": 62,
   "metadata": {},
   "outputs": [
    {
     "data": {
      "text/plain": [
       "<tf.Tensor: shape=(10, 10), dtype=int32, numpy=\n",
       "array([[835,  12,  28,  21,   7,   1,   7,  11,  64,  14],\n",
       "       [ 51, 815,   4,  10,   8,   3,   5,   8,  31,  65],\n",
       "       [124,   5, 503,  89,  89,  53,  75,  43,  12,   7],\n",
       "       [ 42,  17,  55, 552,  62, 122,  73,  43,  23,  11],\n",
       "       [ 48,   4,  61,  88, 609,  31,  59,  84,  16,   0],\n",
       "       [ 23,   4,  44, 244,  56, 507,  36,  70,  13,   3],\n",
       "       [ 18,   6,  38,  68,  32,  18, 797,  10,  10,   3],\n",
       "       [ 37,   4,  33,  46,  53,  44,   8, 762,   4,   9],\n",
       "       [124,  28,  12,  22,   9,   6,   2,   7, 776,  14],\n",
       "       [ 89, 105,   9,  21,  11,   3,   4,  30,  41, 687]])>"
      ]
     },
     "execution_count": 62,
     "metadata": {},
     "output_type": "execute_result"
    }
   ],
   "source": [
    "matrix = tf.math.confusion_matrix(labels=y_test, predictions=y_predicted)\n",
    "matrix"
   ]
  },
  {
   "cell_type": "code",
   "execution_count": 63,
   "metadata": {},
   "outputs": [
    {
     "data": {
      "text/plain": [
       "Text(69.0, 0.5, 'Real Truth!!!')"
      ]
     },
     "execution_count": 63,
     "metadata": {},
     "output_type": "execute_result"
    },
    {
     "data": {
      "image/png": "[encoded data removed]",
      "text/plain": [
       "<Figure size 720x720 with 2 Axes>"
      ]
     },
     "metadata": {
      "needs_background": "light"
     },
     "output_type": "display_data"
    }
   ],
   "source": [
    "import seaborn as sn\n",
    "plt.figure(figsize = (10,10))\n",
    "sn.heatmap(matrix, annot=True, fmt='d')\n",
    "plt.xlabel('Predictions...')\n",
    "plt.ylabel('Real Truth!!!')"
   ]
  },
  {
   "cell_type": "code",
   "execution_count": 64,
   "metadata": {},
   "outputs": [
    {
     "name": "stdout",
     "output_type": "stream",
     "text": [
      "[[[0.87843137 0.8745098  0.89411765]\n",
      "  [0.79215686 0.78823529 0.80784314]\n",
      "  [0.77254902 0.76862745 0.78823529]\n",
      "  ...\n",
      "  [0.89019608 0.8627451  0.89019608]\n",
      "  [0.89803922 0.85882353 0.89019608]\n",
      "  [0.9254902  0.88627451 0.91764706]]\n",
      "\n",
      " [[0.89411765 0.89803922 0.91372549]\n",
      "  [0.87058824 0.86666667 0.88627451]\n",
      "  [0.85490196 0.85098039 0.87058824]\n",
      "  ...\n",
      "  [0.81960784 0.8        0.82352941]\n",
      "  [0.8        0.77254902 0.8       ]\n",
      "  [0.84705882 0.80784314 0.83921569]]\n",
      "\n",
      " [[0.86666667 0.87058824 0.89019608]\n",
      "  [0.90980392 0.91372549 0.93333333]\n",
      "  [0.9372549  0.94117647 0.95686275]\n",
      "  ...\n",
      "  [0.75686275 0.7372549  0.76078431]\n",
      "  [0.79607843 0.76862745 0.79607843]\n",
      "  [0.87843137 0.85098039 0.87843137]]\n",
      "\n",
      " ...\n",
      "\n",
      " [[0.18823529 0.33333333 0.26666667]\n",
      "  [0.17254902 0.29411765 0.23529412]\n",
      "  [0.16470588 0.25098039 0.20392157]\n",
      "  ...\n",
      "  [0.37647059 0.3372549  0.30196078]\n",
      "  [0.36862745 0.34117647 0.30196078]\n",
      "  [0.36078431 0.34509804 0.30196078]]\n",
      "\n",
      " [[0.31372549 0.35294118 0.31764706]\n",
      "  [0.29803922 0.31764706 0.29411765]\n",
      "  [0.28627451 0.29019608 0.27058824]\n",
      "  ...\n",
      "  [0.31764706 0.33333333 0.26666667]\n",
      "  [0.34901961 0.3254902  0.2627451 ]\n",
      "  [0.37254902 0.31764706 0.26666667]]\n",
      "\n",
      " [[0.46666667 0.35294118 0.36862745]\n",
      "  [0.44705882 0.33333333 0.34901961]\n",
      "  [0.44313725 0.32941176 0.34901961]\n",
      "  ...\n",
      "  [0.29411765 0.34901961 0.25098039]\n",
      "  [0.34901961 0.32941176 0.25098039]\n",
      "  [0.39607843 0.32156863 0.2627451 ]]]\n"
     ]
    }
   ],
   "source": [
    "from PIL import Image\n",
    "from numpy import asarray\n",
    "image = Image.open('images_cars.jpg')\n",
    "data = asarray(image)/255\n",
    "print(data)"
   ]
  },
  {
   "cell_type": "code",
   "execution_count": 65,
   "metadata": {},
   "outputs": [
    {
     "name": "stdout",
     "output_type": "stream",
     "text": [
      "(32, 32, 3)\n"
     ]
    }
   ],
   "source": [
    "print(data.shape)"
   ]
  },
  {
   "cell_type": "code",
   "execution_count": 84,
   "metadata": {},
   "outputs": [
    {
     "data": {
      "image/png": "[encoded data removed]",
      "text/plain": [
       "<Figure size 216x216 with 1 Axes>"
      ]
     },
     "metadata": {
      "needs_background": "light"
     },
     "output_type": "display_data"
    }
   ],
   "source": [
    "load_image(X_test, y_test, 2548)"
   ]
  },
  {
   "cell_type": "code",
   "execution_count": 85,
   "metadata": {},
   "outputs": [
    {
     "data": {
      "text/plain": [
       "'airplane'"
      ]
     },
     "execution_count": 85,
     "metadata": {},
     "output_type": "execute_result"
    }
   ],
   "source": [
    "classes[y_predicted[2548]]"
   ]
  },
  {
   "cell_type": "code",
   "execution_count": null,
   "metadata": {},
   "outputs": [],
   "source": []
  }
 ],
 "metadata": {
  "kernelspec": {
   "display_name": "Python 3",
   "language": "python",
   "name": "python3"
  },
  "language_info": {
   "codemirror_mode": {
    "name": "ipython",
    "version": 3
   },
   "file_extension": ".py",
   "mimetype": "text/x-python",
   "name": "python",
   "nbconvert_exporter": "python",
   "pygments_lexer": "ipython3",
   "version": "3.7.6"
  }
 },
 "nbformat": 4,
 "nbformat_minor": 4
}
